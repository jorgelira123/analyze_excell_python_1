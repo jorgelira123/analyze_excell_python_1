{
 "cells": [
  {
   "cell_type": "code",
   "execution_count": 3,
   "metadata": {},
   "outputs": [
    {
     "name": "stdout",
     "output_type": "stream",
     "text": [
      "<class 'pandas.core.frame.DataFrame'>\n",
      "RangeIndex: 70000 entries, 0 to 69999\n",
      "Data columns (total 11 columns):\n",
      " #   Column           Non-Null Count  Dtype         \n",
      "---  ------           --------------  -----         \n",
      " 0   id_pedido        70000 non-null  object        \n",
      " 1   data             70000 non-null  datetime64[ns]\n",
      " 2   loja             70000 non-null  object        \n",
      " 3   cidade           70000 non-null  object        \n",
      " 4   estado           70000 non-null  object        \n",
      " 5   regiao           70000 non-null  object        \n",
      " 6   tamanho          70000 non-null  object        \n",
      " 7   local_consumo    70000 non-null  object        \n",
      " 8   preco            70000 non-null  int64         \n",
      " 9   forma_pagamento  70000 non-null  object        \n",
      " 10  ano_mes          70000 non-null  object        \n",
      "dtypes: datetime64[ns](1), int64(1), object(9)\n",
      "memory usage: 5.9+ MB\n"
     ]
    },
    {
     "data": {
      "text/plain": [
       "loja\n",
       "Loja 1    8.357259\n",
       "Loja 2    8.366434\n",
       "Loja 3    8.333208\n",
       "Loja 4    8.334866\n",
       "Loja 5    8.391968\n",
       "Loja 6    8.350669\n",
       "Name: preco, dtype: float64"
      ]
     },
     "execution_count": 3,
     "metadata": {},
     "output_type": "execute_result"
    }
   ],
   "source": [
    "import pandas as pd\n",
    "import plotly_express as px\n",
    "\n",
    "dados = pd.read_excel(\"vendas.xlsx\")\n",
    "dados.head()\n",
    "dados.info()\n",
    "dados.describe()\n",
    "dados['loja'].value_counts()\n",
    "dados.groupby('loja').preco.sum()\n",
    "dados.groupby('loja').preco.mean()\n",
    "\n",
    "px.histogram(dados, x=\"loja\", color=\"regiao\", text_auto=True)\n",
    "\n",
    "colunas = ['loja', 'cidade', 'estado', 'tamanho', 'local_consumo']\n",
    "for coluna in colunas:\n",
    "    fig = px.histogram(dados, x=coluna, y='preco', color='forma_pagamento', text_auto=True)\n",
    "fig.show()"
   ]
  }
 ],
 "metadata": {
  "kernelspec": {
   "display_name": "Python 3",
   "language": "python",
   "name": "python3"
  },
  "language_info": {
   "codemirror_mode": {
    "name": "ipython",
    "version": 3
   },
   "file_extension": ".py",
   "mimetype": "text/x-python",
   "name": "python",
   "nbconvert_exporter": "python",
   "pygments_lexer": "ipython3",
   "version": "3.11.3"
  },
  "orig_nbformat": 4
 },
 "nbformat": 4,
 "nbformat_minor": 2
}
